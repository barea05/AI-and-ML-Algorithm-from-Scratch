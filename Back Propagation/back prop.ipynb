{
 "cells": [
  {
   "cell_type": "code",
   "execution_count": 1,
   "id": "04a22818",
   "metadata": {},
   "outputs": [
    {
     "data": {
      "application/javascript": [
       "\n",
       "        if (window._pyforest_update_imports_cell) { window._pyforest_update_imports_cell('import pickle'); }\n",
       "    "
      ],
      "text/plain": [
       "<IPython.core.display.Javascript object>"
      ]
     },
     "metadata": {},
     "output_type": "display_data"
    },
    {
     "name": "stdout",
     "output_type": "stream",
     "text": [
      "(506, 6)\n",
      "(506, 5) (506,)\n"
     ]
    }
   ],
   "source": [
    "import numpy as np\n",
    "from tqdm import tqdm\n",
    "import matplotlib.pyplot as plt\n",
    "import math\n",
    "\n",
    "with open('Backpropagation_from_Scratch_Assignment_Data.pkl', 'rb') as f:\n",
    "    data = pickle.load(f)\n",
    "print(data.shape)\n",
    "X = data[:, :5]\n",
    "y = data[:, -1]\n",
    "print(X.shape, y.shape)"
   ]
  },
  {
   "cell_type": "code",
   "execution_count": 2,
   "id": "cd82814c",
   "metadata": {},
   "outputs": [
    {
     "name": "stdout",
     "output_type": "stream",
     "text": [
      "<_io.TextIOWrapper name='Backpropagation_from_Scratch_Assignment_Data.pkl' mode='r' encoding='cp1252'>\n"
     ]
    }
   ],
   "source": [
    "with open('Backpropagation_from_Scratch_Assignment_Data.pkl', \"r\") as f:\n",
    "    print(f)"
   ]
  },
  {
   "cell_type": "code",
   "execution_count": 3,
   "id": "6a60406a",
   "metadata": {},
   "outputs": [
    {
     "name": "stdout",
     "output_type": "stream",
     "text": [
      "[[-1.2879095  -0.12001342 -1.45900038 -0.66660821 -0.14421743  1.85884913]\n",
      " [-0.59338101  0.36716642 -0.30309415 -0.98732948 -0.74026221  1.81901037]\n",
      " [-0.59338101 -0.26581176 -0.30309415 -0.98732948 -0.74026221  1.81989281]\n",
      " ...\n",
      " [ 0.11573841  0.79744934  1.17646583 -0.80321172  0.15812412  1.59974823]\n",
      " [ 0.11573841  0.73699637  1.17646583 -0.80321172  0.15812412  1.5997457 ]\n",
      " [ 0.11573841  0.43473151  1.17646583 -0.80321172  0.15812412  1.59957717]]\n"
     ]
    }
   ],
   "source": [
    "print(data)"
   ]
  },
  {
   "cell_type": "code",
   "execution_count": 4,
   "id": "52f1a16b",
   "metadata": {},
   "outputs": [
    {
     "name": "stdout",
     "output_type": "stream",
     "text": [
      "[[-1.2879095  -0.12001342 -1.45900038 -0.66660821 -0.14421743]\n",
      " [-0.59338101  0.36716642 -0.30309415 -0.98732948 -0.74026221]\n",
      " [-0.59338101 -0.26581176 -0.30309415 -0.98732948 -0.74026221]\n",
      " ...\n",
      " [ 0.11573841  0.79744934  1.17646583 -0.80321172  0.15812412]\n",
      " [ 0.11573841  0.73699637  1.17646583 -0.80321172  0.15812412]\n",
      " [ 0.11573841  0.43473151  1.17646583 -0.80321172  0.15812412]]\n"
     ]
    }
   ],
   "source": [
    "print(X)"
   ]
  },
  {
   "cell_type": "code",
   "execution_count": 5,
   "id": "93e03c74",
   "metadata": {},
   "outputs": [
    {
     "data": {
      "image/jpeg": "[encoded data removed]",
      "text/html": [
       "\n",
       "        <iframe\n",
       "            width=\"1000\"\n",
       "            height=\"500\"\n",
       "            src=\"https://www.youtube.com/embed/i94OvYb6noo\"\n",
       "            frameborder=\"0\"\n",
       "            allowfullscreen\n",
       "        ></iframe>\n",
       "        "
      ],
      "text/plain": [
       "<IPython.lib.display.YouTubeVideo at 0x209dc701640>"
      ]
     },
     "execution_count": 5,
     "metadata": {},
     "output_type": "execute_result"
    }
   ],
   "source": [
    "from IPython.display import YouTubeVideo\n",
    "YouTubeVideo('i94OvYb6noo',width=\"1000\",height=\"500\")"
   ]
  },
  {
   "cell_type": "code",
   "execution_count": 6,
   "id": "5f652d78",
   "metadata": {},
   "outputs": [],
   "source": [
    "def sigmoid(z):\n",
    "    '''In this function, we will compute the sigmoid(z)'''\n",
    "    # we can use this function in forward and backward propagation\n",
    "    # write the code to compute the sigmoid value of z and return that value \n",
    "    sigmoid = 1/(1 + np.exp(-z))\n",
    "    return sigmoid"
   ]
  },
  {
   "cell_type": "code",
   "execution_count": 7,
   "id": "4d07d95f",
   "metadata": {},
   "outputs": [
    {
     "data": {
      "text/plain": [
       "True"
      ]
     },
     "execution_count": 7,
     "metadata": {},
     "output_type": "execute_result"
    }
   ],
   "source": [
    "def grader_sigmoid(z):\n",
    "  #if you have written the code correctly then the grader function will output true\n",
    "  val=sigmoid(z)\n",
    "  assert(val==0.8807970779778823)\n",
    "  return True\n",
    "grader_sigmoid(2)"
   ]
  },
  {
   "cell_type": "code",
   "execution_count": 8,
   "id": "43740fbc",
   "metadata": {},
   "outputs": [
    {
     "data": {
      "text/plain": [
       "{'exp': 1.1272967040973583,\n",
       " 'sigmoid': 0.5279179387419721,\n",
       " 'tanh': 0.8417934192562146,\n",
       " 'loss': 0.9298048963072919,\n",
       " 'dy_pred': -1.9285278284819143}"
      ]
     },
     "execution_count": 8,
     "metadata": {},
     "output_type": "execute_result"
    }
   ],
   "source": [
    "def forward_propagation(x, y, w):\n",
    "    '''In this function, we will compute the forward propagation '''\n",
    "    # X: input data point, note that in this assignment you are having 5-d data points\n",
    "    # y: output varible\n",
    "    # W: weight array, its of length 9, W[0] corresponds to w1 in graph, W[1] corresponds to w2 in graph,..., W[8] corresponds to w9 in graph.  \n",
    "    # you have to return the following variables\n",
    "    # exp= part1 (compute the forward propagation until exp and then store the values in exp)\n",
    "    # tanh =part2(compute the forward propagation until tanh and then store the values in tanh)\n",
    "    # sig = part3(compute the forward propagation until sigmoid and then store the values in sig)\n",
    "    # we are computing one of the values for better understanding\n",
    "\n",
    "    val_1= (w[0]*x[0]+w[1]*x[1]) * (w[0]*x[0]+w[1]*x[1]) + w[5]\n",
    "    part_1 = np.exp(val_1)\n",
    "    part_2 = np.tanh(part_1 + w[6])\n",
    "    part_3 = sigmoid((np.sin(w[2]*x[2]) * (w[3]*x[3]+w[4]*x[4])) + w[7])\n",
    "    y_pred = part_2 + part_3 * w[8]\n",
    "    loss = np.power(y - y_pred, 2)\n",
    "    dy_pred = -2*(y- y_pred)       \n",
    "\n",
    "\n",
    "    # after computing part1,part2 and part3 compute the value of y' from the main Computational graph using required equations\n",
    "    # write code to compute the value of L=(y-y')^2 and store it in variable loss\n",
    "    # compute derivative of L  w.r.to y' and store it in dy_pred \n",
    "    # Create a dictionary to store all the intermediate values i.e. dy_pred ,loss,exp,tanh,sigmoid\n",
    "    # we will be using the dictionary to find values in backpropagation, you can add other keys in dictionary as well\n",
    "\n",
    "    forward_dict={}\n",
    "    forward_dict['exp']= part_1\n",
    "    forward_dict['sigmoid'] = part_3\n",
    "    forward_dict['tanh'] = part_2\n",
    "    forward_dict['loss'] = loss \n",
    "    forward_dict['dy_pred'] = dy_pred\n",
    "\n",
    "    return forward_dict\n",
    "\n",
    "w=np.ones(9)*0.1\n",
    "forward_propagation(X[0],y[0],w)"
   ]
  },
  {
   "cell_type": "code",
   "execution_count": 9,
   "id": "ab2c5018",
   "metadata": {},
   "outputs": [
    {
     "data": {
      "text/plain": [
       "True"
      ]
     },
     "execution_count": 9,
     "metadata": {},
     "output_type": "execute_result"
    }
   ],
   "source": [
    "def grader_forwardprop(data):\n",
    "    dl = (data['dy_pred'] == -1.9285278284819143)\n",
    "    loss=(data['loss'] == 0.9298048963072919)\n",
    "    part1=(data['exp'] == 1.1272967040973583)\n",
    "    part2=(data['tanh'] == 0.8417934192562146)\n",
    "    part3=(data['sigmoid'] == 0.5279179387419721)\n",
    "    assert(dl and loss and part1 and part2 and part3)\n",
    "    return True\n",
    "w=np.ones(9)*0.1\n",
    "d1=forward_propagation(X[0],y[0],w)\n",
    "grader_forwardprop(d1)"
   ]
  },
  {
   "cell_type": "code",
   "execution_count": 10,
   "id": "d003aaab",
   "metadata": {},
   "outputs": [],
   "source": [
    "def backward_propagation(x,y,w,forward_dict):\n",
    "    '''In this function, we will compute the backward propagation '''\n",
    "    # forward_dict: the outputs of the forward_propagation() function\n",
    "    # write code to compute the gradients of each weight [w1,w2,w3,...,w9]\n",
    "    # Hint: you can use dict type to store the required variables \n",
    "    # dw1 = # in dw1 compute derivative of L w.r.to w1\n",
    "    # dw2 = # in dw2 compute derivative of L w.r.to w2\n",
    "    # dw3 = # in dw3 compute derivative of L w.r.to w3\n",
    "    # dw4 = # in dw4 compute derivative of L w.r.to w4\n",
    "    # dw5 = # in dw5 compute derivative of L w.r.to w5\n",
    "    # dw6 = # in dw6 compute derivative of L w.r.to w6\n",
    "    # dw7 = # in dw7 compute derivative of L w.r.to w7\n",
    "    # dw8 = # in dw8 compute derivative of L w.r.to w8\n",
    "    # dw9 = # in dw9 compute derivative of L w.r.to w9\n",
    "    dw1 = forward_dict['dy_pred']*(1-(math.pow(forward_dict['tanh'],2)))*forward_dict[\"exp\"]*2*((w[0]*x[0])+(w[1]*x[1]))*x[0]\n",
    "    # dw2 = # in dw2 compute derivative of L w.r.to w2\n",
    "    dw2=forward_dict['dy_pred']*(1-(math.pow(forward_dict['tanh'],2)))*forward_dict[\"exp\"]*2*((w[0]*x[0])+(w[1]*x[1]))*x[1]\n",
    "    # dw3 = # in dw3 compute derivative of L w.r.to w3\n",
    "    dw3 =forward_dict['dy_pred']*(forward_dict['sigmoid']*(1-forward_dict['sigmoid']))*w[8]*((w[3]*x[3])+(w[4]*x[4]))*math.cos(x[2]*w[2])*x[2]\n",
    "    # dw4 = # in dw4 compute derivative of L w.r.to w4\n",
    "    dw4 =forward_dict['dy_pred']*(forward_dict['sigmoid']*(1-forward_dict['sigmoid']))*w[8]*math.sin(x[2]*w[2])*x[3]\n",
    "    # dw5 = # in dw5 compute derivative of L w.r.to w5\n",
    "    dw5 =forward_dict['dy_pred']*(forward_dict['sigmoid']*(1-forward_dict['sigmoid']))*w[8]*math.sin(x[2]*w[2])*x[4]\n",
    "    # dw6 = # in dw6 compute derivative of L w.r.to w6\n",
    "    dw6 = forward_dict['dy_pred']*(1-(math.pow(forward_dict['tanh'],2)))*forward_dict[\"exp\"]\n",
    "    # dw7 = # in dw7 compute derivative of L w.r.to w7\n",
    "    dw7 =forward_dict['dy_pred']*(1-(math.pow(forward_dict['tanh'],2)))\n",
    "    # dw8 = # in dw8 compute derivative of L w.r.to w8\n",
    "    dw8 =forward_dict['dy_pred']*(forward_dict['sigmoid']*(1-forward_dict['sigmoid']))*w[8]\n",
    "    # dw9 = # in dw9 compute derivative of L w.r.to w9\n",
    "    dw9 =forward_dict['dy_pred']*forward_dict['sigmoid']\n",
    "\n",
    "\n",
    "    backward_dict={}\n",
    "    #store the variables dw1,dw2 etc. in a dict as backward_dict['dw1']= dw1,backward_dict['dw2']= dw2...\n",
    "    backward_dict['dw1']= dw1\n",
    "    backward_dict['dw2']= dw2\n",
    "    backward_dict['dw3']= dw3\n",
    "    backward_dict['dw4']= dw4\n",
    "    backward_dict['dw5']= dw5\n",
    "    backward_dict['dw6']= dw6\n",
    "    backward_dict['dw7']= dw7\n",
    "    backward_dict['dw8']= dw8\n",
    "    backward_dict['dw9']= dw9\n",
    "\n",
    "    return backward_dict"
   ]
  },
  {
   "cell_type": "code",
   "execution_count": 11,
   "id": "b39ebac3",
   "metadata": {},
   "outputs": [
    {
     "data": {
      "text/plain": [
       "True"
      ]
     },
     "execution_count": 11,
     "metadata": {},
     "output_type": "execute_result"
    }
   ],
   "source": [
    "def grader_backprop(data):\n",
    "    dw1=(np.round(data['dw1'],6)==-0.229733)\n",
    "    dw2=(np.round(data['dw2'],6)==-0.021408)\n",
    "    dw3=(np.round(data['dw3'],6)==-0.005625)\n",
    "    dw4=(np.round(data['dw4'],6)==-0.004658)\n",
    "    dw5=(np.round(data['dw5'],6)==-0.001008)\n",
    "    dw6=(np.round(data['dw6'],6)==-0.633475)\n",
    "    dw7=(np.round(data['dw7'],6)==-0.561942)\n",
    "    dw8=(np.round(data['dw8'],6)==-0.048063)\n",
    "    dw9=(np.round(data['dw9'],6)==-1.018104)\n",
    "    assert(dw1 and dw2 and dw3 and dw4 and dw5 and dw6 and dw7 and dw8 and dw9)\n",
    "    return True \n",
    "w=np.ones(9)*0.1\n",
    "forward_dict=forward_propagation(X[0],y[0],w)\n",
    "backward_dict=backward_propagation(X[0],y[0],w,forward_dict)\n",
    "grader_backprop(backward_dict)"
   ]
  },
  {
   "cell_type": "code",
   "execution_count": 12,
   "id": "ad8784ef",
   "metadata": {},
   "outputs": [
    {
     "data": {
      "text/plain": [
       "{'dw1': -0.22973323498702,\n",
       " 'dw2': -0.02140761471775293,\n",
       " 'dw3': -0.00562540558026632,\n",
       " 'dw4': -0.004657941222712424,\n",
       " 'dw5': -0.0010077228498574248,\n",
       " 'dw6': -0.6334751873437471,\n",
       " 'dw7': -0.561941842854033,\n",
       " 'dw8': -0.04806288407316517,\n",
       " 'dw9': -1.0181044360187037}"
      ]
     },
     "execution_count": 12,
     "metadata": {},
     "output_type": "execute_result"
    }
   ],
   "source": [
    "backward_propagation(X[0],y[0],w,forward_dict)"
   ]
  },
  {
   "cell_type": "code",
   "execution_count": 17,
   "id": "d82096a1",
   "metadata": {},
   "outputs": [],
   "source": [
    "def gradient_checking(x,y,w,eps):\n",
    "    # compute the dict value using forward_propagation()\n",
    "    # compute the actual gradients of W using backword_propagation()\n",
    "    forward_dict=forward_propagation(x,y,w)\n",
    "    backward_dict=backward_propagation(x,y,w,forward_dict)\n",
    "    \n",
    "    #we are storing the original gradients for the given datapoints in a list\n",
    "    \n",
    "    original_gradients_list=list(backward_dict.values())\n",
    "    # make sure that the order is correct i.e. first element in the list corresponds to  dw1 ,second element is dw2 etc.\n",
    "    # you can use reverse function if the values are in reverse order\n",
    "    \n",
    "    approx_gradients_list=[]\n",
    "    eps=0.0001\n",
    "    #now we have to write code for approx gradients, here you have to make sure that you update only one weight at a time\n",
    "    #write your code here and append the approximate gradient value for each weight in  approx_gradients_list\n",
    "    for i in range(len(w)):\n",
    "        w_plus =w.copy()\n",
    "        w_plus[i]=w_plus[i]+eps\n",
    "        Loss1=forward_propagation(x,y,w_plus)['loss']\n",
    "        w_sub = w.copy()\n",
    "        w_sub[i]=w_sub[i]-eps\n",
    "        Loss2=forward_propagation(x,y,w_sub)['loss']\n",
    "        approx =(Loss1-Loss2)/(2*eps)\n",
    "        approx_gradients_list.append(approx)\n",
    "#     gradient_check_value =[]\n",
    "#     for i in range(len(w)):\n",
    "#         num = np.linalg.norm(original_gradients_list[i] - approx_gradients_list[i])\n",
    "#         den = np.linalg.norm(original_gradients_list[i]) + np.linalg.norm(approx_gradients_list[i])\n",
    "#         diff = num / den\n",
    "#         gradient_check_value.append(diff)\n",
    "    original_gradients_list=np.array(original_gradients_list)\n",
    "    approx_gradients_list=np.array(approx_gradients_list)\n",
    "    gradient_check_value =(original_gradients_list-approx_gradients_list)/(original_gradients_list+approx_gradients_list)\n",
    " \n",
    "    return gradient_check_value"
   ]
  },
  {
   "cell_type": "code",
   "execution_count": 19,
   "id": "87380df9",
   "metadata": {},
   "outputs": [
    {
     "name": "stdout",
     "output_type": "stream",
     "text": [
      "[ 7.50037812e-09 -9.01698185e-10 -2.27799430e-08 -7.36355093e-09\n",
      "  3.51241761e-07  1.22687786e-09 -2.71917712e-09  5.83760634e-10\n",
      " -6.12086145e-13]\n"
     ]
    },
    {
     "data": {
      "text/plain": [
       "True"
      ]
     },
     "execution_count": 19,
     "metadata": {},
     "output_type": "execute_result"
    }
   ],
   "source": [
    "def grader_grad_check(value):\n",
    "    print(value)\n",
    "    assert(np.all(value < 10**-4))\n",
    "    return True \n",
    "\n",
    "w=[ 0.00271756,  0.01260512,  0.00167639, -0.00207756,  0.00720768,\n",
    "   0.00114524,  0.00684168,  0.02242521,  0.01296444]\n",
    "\n",
    "eps=10**-7\n",
    "value= gradient_checking(X[0],y[0],w,eps)\n",
    "grader_grad_check(value)"
   ]
  },
  {
   "cell_type": "code",
   "execution_count": 26,
   "id": "e9e53821",
   "metadata": {},
   "outputs": [],
   "source": [
    "def vanilla_update(w_vanilla,X,Y,learning_rate,epochs):\n",
    "    mean_loss=[]\n",
    "    for e in range(epochs):\n",
    "        loss_per_datapoint=0\n",
    "        for i in range(len(X)):\n",
    "            #calculate forward propogation\n",
    "            forward_dict = forward_propagation(X[i], y[i], w_vanilla)  \n",
    "            #adding loss for each datapoint\n",
    "            loss_per_datapoint += forward_dict['loss']    \n",
    "            #calculating gradient dict using backward propogation\n",
    "            gradients = backward_propagation(X[i],y[i],w_vanilla,forward_dict)   \n",
    "            #getting the values of gradients from dictionary\n",
    "            dw = np.array(list(gradients.values()))                        \n",
    "\n",
    "            \n",
    "            #update w according to vanilla update => w_new = w_old - learning_rate*dw\n",
    "            w_new = w_vanilla - learning_rate * dw\n",
    "            w_vanilla = w_new\n",
    "            \n",
    "            #you have to write your code here to update weights according to vanilla optimizer\n",
    "            \n",
    "        # we are appending the average loss for all the datapoints\n",
    "        mean_loss.append(loss_per_datapoint/len(X))\n",
    "    return np.array(mean_loss)"
   ]
  },
  {
   "cell_type": "code",
   "execution_count": 27,
   "id": "654fd682",
   "metadata": {},
   "outputs": [
    {
     "name": "stdout",
     "output_type": "stream",
     "text": [
      "True\n"
     ]
    },
    {
     "data": {
      "image/png": "[encoded data removed]",
      "text/plain": [
       "<Figure size 432x288 with 1 Axes>"
      ]
     },
     "metadata": {
      "needs_background": "light"
     },
     "output_type": "display_data"
    }
   ],
   "source": [
    "def grader_grad_check(array):\n",
    "    assert(np.round(array[0],3)==0.678 and np.round(array[-1],3)==0.0310)\n",
    "    return True \n",
    "\n",
    "w_vanilla=np.array([ 0.00244274 ,0.00973789,-0.00504212, 0.00146322,-0.00952112, 0.03329146,\n",
    " -0.00042503  ,0.00149911 ,0.0136601 ])\n",
    "learning_rate=0.001\n",
    "epochs=10\n",
    "vanilla_loss_array= vanilla_update(w_vanilla,X,y,learning_rate,epochs)\n",
    "print(grader_grad_check(vanilla_loss_array))\n",
    "plt.plot(np.arange(epochs),vanilla_loss_array)\n",
    "plt.xlabel('epochs')\n",
    "plt.ylabel('loss')\n",
    "plt.show()"
   ]
  },
  {
   "cell_type": "code",
   "execution_count": null,
   "id": "11299831",
   "metadata": {},
   "outputs": [],
   "source": [
    "vanilla_update(w_vanilla,X,y,learning_rate,epochs)"
   ]
  },
  {
   "cell_type": "code",
   "execution_count": 33,
   "id": "a3d05086",
   "metadata": {},
   "outputs": [],
   "source": [
    "def momentum_update(w_momentum,X,Y,learning_rate,epochs,v,gamma):\n",
    "    mean_loss=[]\n",
    "    for e in range(epochs):\n",
    "        loss_per_datapoint=0\n",
    "        for i in range(len(X)):\n",
    "            #calculate forward propogation\n",
    "            forward_dict = forward_propagation(X[i], y[i], w_momentum)  \n",
    "            #adding loss for each datapoint\n",
    "            loss_per_datapoint+=forward_dict['loss']    \n",
    "            #calculating gradient dict using backward propogation\n",
    "            gradients = backward_propagation(X[i],y[i],w_momentum,forward_dict)   \n",
    "            #getting the values of gradients from dictionary\n",
    "            dw = np.array(list(gradients.values()))                        \n",
    "\n",
    "            #you have to write your code here to update weights according to momentum optimizer\n",
    "            v = gamma * v + (learning_rate * dw)\n",
    "            w_momentum = w_momentum - v \n",
    "\n",
    "            \n",
    "        # we are appending the average loss for all the datapoints\n",
    "        mean_loss.append(loss_per_datapoint/len(X))\n",
    "    return np.array(mean_loss)"
   ]
  },
  {
   "cell_type": "code",
   "execution_count": 34,
   "id": "80563115",
   "metadata": {},
   "outputs": [
    {
     "name": "stdout",
     "output_type": "stream",
     "text": [
      "True\n"
     ]
    },
    {
     "data": {
      "image/png": "[encoded data removed]",
      "text/plain": [
       "<Figure size 432x288 with 1 Axes>"
      ]
     },
     "metadata": {
      "needs_background": "light"
     },
     "output_type": "display_data"
    }
   ],
   "source": [
    "def grader_grad_check(array):\n",
    "    assert(np.round(array[0],3)==0.143 and np.round(array[-1],3)==0.005)\n",
    "    return True \n",
    "\n",
    "w_momentum=np.array([ 0.00244274 ,0.00973789,-0.00504212, 0.00146322,-0.00952112, 0.03329146,\n",
    " -0.00042503  ,0.00149911 ,0.0136601 ])\n",
    "\n",
    "learning_rate=0.001\n",
    "epochs=10\n",
    "v=np.zeros(9)                         \n",
    "m=0.9\n",
    "momentum_loss_array= momentum_update(w_momentum,X,y,learning_rate,epochs,v,m)\n",
    "print(grader_grad_check(momentum_loss_array))\n",
    "plt.plot(np.arange(epochs),momentum_loss_array)\n",
    "plt.xlabel('epochs')\n",
    "plt.ylabel('loss')\n",
    "plt.show()"
   ]
  },
  {
   "cell_type": "code",
   "execution_count": 35,
   "id": "ac33c8ad",
   "metadata": {},
   "outputs": [
    {
     "data": {
      "image/png": "[encoded data removed]",
      "text/plain": [
       "<Figure size 432x288 with 1 Axes>"
      ]
     },
     "metadata": {
      "needs_background": "light"
     },
     "output_type": "display_data"
    }
   ],
   "source": [
    "\n",
    "plt.plot(vanilla_loss_array, label = 'Vanilla Update')\n",
    "plt.plot(momentum_loss_array, label = 'Momentum Update')\n",
    "\n",
    "\n",
    "plt.title('Comparision b/w epochs & loss with different Optimizers')\n",
    "plt.xlabel('Epoch Number')\n",
    "plt.ylabel('Loss')\n",
    "plt.legend()\n",
    "plt.show()"
   ]
  },
  {
   "cell_type": "code",
   "execution_count": null,
   "id": "ec6007b6",
   "metadata": {},
   "outputs": [],
   "source": []
  }
 ],
 "metadata": {
  "kernelspec": {
   "display_name": "Python 3",
   "language": "python",
   "name": "python3"
  },
  "language_info": {
   "codemirror_mode": {
    "name": "ipython",
    "version": 3
   },
   "file_extension": ".py",
   "mimetype": "text/x-python",
   "name": "python",
   "nbconvert_exporter": "python",
   "pygments_lexer": "ipython3",
   "version": "3.8.8"
  }
 },
 "nbformat": 4,
 "nbformat_minor": 5
}
