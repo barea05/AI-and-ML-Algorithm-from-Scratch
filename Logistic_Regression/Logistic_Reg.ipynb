{
 "cells": [
  {
   "cell_type": "code",
   "execution_count": 1,
   "id": "9259c068",
   "metadata": {},
   "outputs": [],
   "source": [
    "from sklearn.model_selection import train_test_split\n",
    "import numpy as np\n",
    "import pandas as pd\n",
    "from sklearn.feature_extraction.text import TfidfVectorizer\n",
    "from sklearn.preprocessing import StandardScaler\n",
    "from sklearn import linear_model\n",
    "import matplotlib.pyplot as plt"
   ]
  },
  {
   "cell_type": "code",
   "execution_count": 2,
   "id": "e3b9eeb7",
   "metadata": {},
   "outputs": [
    {
     "data": {
      "text/html": [
       "<div>\n",
       "<style scoped>\n",
       "    .dataframe tbody tr th:only-of-type {\n",
       "        vertical-align: middle;\n",
       "    }\n",
       "\n",
       "    .dataframe tbody tr th {\n",
       "        vertical-align: top;\n",
       "    }\n",
       "\n",
       "    .dataframe thead th {\n",
       "        text-align: right;\n",
       "    }\n",
       "</style>\n",
       "<table border=\"1\" class=\"dataframe\">\n",
       "  <thead>\n",
       "    <tr style=\"text-align: right;\">\n",
       "      <th></th>\n",
       "      <th>category</th>\n",
       "      <th>text</th>\n",
       "    </tr>\n",
       "  </thead>\n",
       "  <tbody>\n",
       "    <tr>\n",
       "      <th>0</th>\n",
       "      <td>0</td>\n",
       "      <td>worldcom boss  left books alone  former worldc...</td>\n",
       "    </tr>\n",
       "    <tr>\n",
       "      <th>1</th>\n",
       "      <td>1</td>\n",
       "      <td>tigers wary of farrell  gamble  leicester say ...</td>\n",
       "    </tr>\n",
       "    <tr>\n",
       "      <th>2</th>\n",
       "      <td>1</td>\n",
       "      <td>yeading face newcastle in fa cup premiership s...</td>\n",
       "    </tr>\n",
       "    <tr>\n",
       "      <th>3</th>\n",
       "      <td>1</td>\n",
       "      <td>henman hopes ended in dubai third seed tim hen...</td>\n",
       "    </tr>\n",
       "    <tr>\n",
       "      <th>4</th>\n",
       "      <td>1</td>\n",
       "      <td>wilkinson fit to face edinburgh england captai...</td>\n",
       "    </tr>\n",
       "    <tr>\n",
       "      <th>...</th>\n",
       "      <td>...</td>\n",
       "      <td>...</td>\n",
       "    </tr>\n",
       "    <tr>\n",
       "      <th>1012</th>\n",
       "      <td>0</td>\n",
       "      <td>wall street cool to ebay s profit shares in on...</td>\n",
       "    </tr>\n",
       "    <tr>\n",
       "      <th>1013</th>\n",
       "      <td>0</td>\n",
       "      <td>ban on forced retirement under 65 employers wi...</td>\n",
       "    </tr>\n",
       "    <tr>\n",
       "      <th>1014</th>\n",
       "      <td>1</td>\n",
       "      <td>time to get tough on friendlies  for an intern...</td>\n",
       "    </tr>\n",
       "    <tr>\n",
       "      <th>1015</th>\n",
       "      <td>0</td>\n",
       "      <td>christmas shoppers flock to tills shops all ov...</td>\n",
       "    </tr>\n",
       "    <tr>\n",
       "      <th>1016</th>\n",
       "      <td>0</td>\n",
       "      <td>bush budget seeks deep cutbacks president bush...</td>\n",
       "    </tr>\n",
       "  </tbody>\n",
       "</table>\n",
       "<p>1017 rows × 2 columns</p>\n",
       "</div>"
      ],
      "text/plain": [
       "      category                                               text\n",
       "0            0  worldcom boss  left books alone  former worldc...\n",
       "1            1  tigers wary of farrell  gamble  leicester say ...\n",
       "2            1  yeading face newcastle in fa cup premiership s...\n",
       "3            1  henman hopes ended in dubai third seed tim hen...\n",
       "4            1  wilkinson fit to face edinburgh england captai...\n",
       "...        ...                                                ...\n",
       "1012         0  wall street cool to ebay s profit shares in on...\n",
       "1013         0  ban on forced retirement under 65 employers wi...\n",
       "1014         1  time to get tough on friendlies  for an intern...\n",
       "1015         0  christmas shoppers flock to tills shops all ov...\n",
       "1016         0  bush budget seeks deep cutbacks president bush...\n",
       "\n",
       "[1017 rows x 2 columns]"
      ]
     },
     "execution_count": 2,
     "metadata": {},
     "output_type": "execute_result"
    }
   ],
   "source": [
    "data_path = 'logistic_regression_assignment_data.csv'\n",
    "\n",
    "df = pd.read_csv(data_path)\n",
    "df"
   ]
  },
  {
   "cell_type": "code",
   "execution_count": 3,
   "id": "0b228303",
   "metadata": {},
   "outputs": [
    {
     "data": {
      "text/plain": [
       "(1017, 2)"
      ]
     },
     "execution_count": 3,
     "metadata": {},
     "output_type": "execute_result"
    }
   ],
   "source": [
    "df.shape"
   ]
  },
  {
   "cell_type": "code",
   "execution_count": 4,
   "id": "49559998",
   "metadata": {},
   "outputs": [
    {
     "data": {
      "text/plain": [
       "1    509\n",
       "0    508\n",
       "Name: category, dtype: int64"
      ]
     },
     "execution_count": 4,
     "metadata": {},
     "output_type": "execute_result"
    }
   ],
   "source": [
    "df['category'].value_counts()"
   ]
  },
  {
   "cell_type": "code",
   "execution_count": 5,
   "id": "5c21b66e",
   "metadata": {},
   "outputs": [
    {
     "name": "stdout",
     "output_type": "stream",
     "text": [
      "Shape of Train_Text =  (813,)\n",
      "Shape of Test_Text =  (204,)\n",
      "Shape of Train_Category =  (813,)\n",
      "Shape of Test_Category =  (204,)\n"
     ]
    }
   ],
   "source": [
    "text = df['text']\n",
    "category = df['category']\n",
    "\n",
    "train_text, test_text, train_category, test_category = train_test_split(text, category, test_size= 0.2, random_state = 42, stratify= category)\n",
    "print(\"Shape of Train_Text = \", train_text.shape)\n",
    "print(\"Shape of Test_Text = \", test_text.shape)\n",
    "print(\"Shape of Train_Category = \", train_category.shape)\n",
    "print(\"Shape of Test_Category = \", test_category.shape)"
   ]
  },
  {
   "cell_type": "code",
   "execution_count": 6,
   "id": "4a412fbf",
   "metadata": {},
   "outputs": [],
   "source": [
    "vectorizer = TfidfVectorizer(ngram_range=(2, 3), max_features=2000, min_df = 10)"
   ]
  },
  {
   "cell_type": "code",
   "execution_count": 7,
   "id": "b64bdf0c",
   "metadata": {},
   "outputs": [
    {
     "data": {
      "text/plain": [
       "((813, 2000), (204, 2000))"
      ]
     },
     "execution_count": 7,
     "metadata": {},
     "output_type": "execute_result"
    }
   ],
   "source": [
    "train_vectors = vectorizer.fit_transform(train_text)\n",
    "test_vectors = vectorizer.transform(test_text)\n",
    "train_vectors.shape, test_vectors.shape\n",
    "\n",
    "#test ony contains .transform mrthod\n",
    "#train always contains fit.transforms"
   ]
  },
  {
   "cell_type": "code",
   "execution_count": 8,
   "id": "382684ea",
   "metadata": {},
   "outputs": [
    {
     "data": {
      "text/plain": [
       "array(['000 jobs', '000 people', '12 months', ..., 'you have',\n",
       "       'you have to', 'you need'], dtype=object)"
      ]
     },
     "execution_count": 8,
     "metadata": {},
     "output_type": "execute_result"
    }
   ],
   "source": [
    "vectorizer.get_feature_names_out()"
   ]
  },
  {
   "cell_type": "code",
   "execution_count": 9,
   "id": "01bc00dc",
   "metadata": {},
   "outputs": [
    {
     "data": {
      "text/plain": [
       "2000"
      ]
     },
     "execution_count": 9,
     "metadata": {},
     "output_type": "execute_result"
    }
   ],
   "source": [
    "dim = train_vectors.shape[1]\n",
    "dim"
   ]
  },
  {
   "cell_type": "code",
   "execution_count": 10,
   "id": "9a8a850a",
   "metadata": {},
   "outputs": [
    {
     "data": {
      "text/html": [
       "<style>#sk-container-id-1 {color: black;background-color: white;}#sk-container-id-1 pre{padding: 0;}#sk-container-id-1 div.sk-toggleable {background-color: white;}#sk-container-id-1 label.sk-toggleable__label {cursor: pointer;display: block;width: 100%;margin-bottom: 0;padding: 0.3em;box-sizing: border-box;text-align: center;}#sk-container-id-1 label.sk-toggleable__label-arrow:before {content: \"▸\";float: left;margin-right: 0.25em;color: #696969;}#sk-container-id-1 label.sk-toggleable__label-arrow:hover:before {color: black;}#sk-container-id-1 div.sk-estimator:hover label.sk-toggleable__label-arrow:before {color: black;}#sk-container-id-1 div.sk-toggleable__content {max-height: 0;max-width: 0;overflow: hidden;text-align: left;background-color: #f0f8ff;}#sk-container-id-1 div.sk-toggleable__content pre {margin: 0.2em;color: black;border-radius: 0.25em;background-color: #f0f8ff;}#sk-container-id-1 input.sk-toggleable__control:checked~div.sk-toggleable__content {max-height: 200px;max-width: 100%;overflow: auto;}#sk-container-id-1 input.sk-toggleable__control:checked~label.sk-toggleable__label-arrow:before {content: \"▾\";}#sk-container-id-1 div.sk-estimator input.sk-toggleable__control:checked~label.sk-toggleable__label {background-color: #d4ebff;}#sk-container-id-1 div.sk-label input.sk-toggleable__control:checked~label.sk-toggleable__label {background-color: #d4ebff;}#sk-container-id-1 input.sk-hidden--visually {border: 0;clip: rect(1px 1px 1px 1px);clip: rect(1px, 1px, 1px, 1px);height: 1px;margin: -1px;overflow: hidden;padding: 0;position: absolute;width: 1px;}#sk-container-id-1 div.sk-estimator {font-family: monospace;background-color: #f0f8ff;border: 1px dotted black;border-radius: 0.25em;box-sizing: border-box;margin-bottom: 0.5em;}#sk-container-id-1 div.sk-estimator:hover {background-color: #d4ebff;}#sk-container-id-1 div.sk-parallel-item::after {content: \"\";width: 100%;border-bottom: 1px solid gray;flex-grow: 1;}#sk-container-id-1 div.sk-label:hover label.sk-toggleable__label {background-color: #d4ebff;}#sk-container-id-1 div.sk-serial::before {content: \"\";position: absolute;border-left: 1px solid gray;box-sizing: border-box;top: 0;bottom: 0;left: 50%;z-index: 0;}#sk-container-id-1 div.sk-serial {display: flex;flex-direction: column;align-items: center;background-color: white;padding-right: 0.2em;padding-left: 0.2em;position: relative;}#sk-container-id-1 div.sk-item {position: relative;z-index: 1;}#sk-container-id-1 div.sk-parallel {display: flex;align-items: stretch;justify-content: center;background-color: white;position: relative;}#sk-container-id-1 div.sk-item::before, #sk-container-id-1 div.sk-parallel-item::before {content: \"\";position: absolute;border-left: 1px solid gray;box-sizing: border-box;top: 0;bottom: 0;left: 50%;z-index: -1;}#sk-container-id-1 div.sk-parallel-item {display: flex;flex-direction: column;z-index: 1;position: relative;background-color: white;}#sk-container-id-1 div.sk-parallel-item:first-child::after {align-self: flex-end;width: 50%;}#sk-container-id-1 div.sk-parallel-item:last-child::after {align-self: flex-start;width: 50%;}#sk-container-id-1 div.sk-parallel-item:only-child::after {width: 0;}#sk-container-id-1 div.sk-dashed-wrapped {border: 1px dashed gray;margin: 0 0.4em 0.5em 0.4em;box-sizing: border-box;padding-bottom: 0.4em;background-color: white;}#sk-container-id-1 div.sk-label label {font-family: monospace;font-weight: bold;display: inline-block;line-height: 1.2em;}#sk-container-id-1 div.sk-label-container {text-align: center;}#sk-container-id-1 div.sk-container {/* jupyter's `normalize.less` sets `[hidden] { display: none; }` but bootstrap.min.css set `[hidden] { display: none !important; }` so we also need the `!important` here to be able to override the default hidden behavior on the sphinx rendered scikit-learn.org. See: https://github.com/scikit-learn/scikit-learn/issues/21755 */display: inline-block !important;position: relative;}#sk-container-id-1 div.sk-text-repr-fallback {display: none;}</style><div id=\"sk-container-id-1\" class=\"sk-top-container\"><div class=\"sk-text-repr-fallback\"><pre>StandardScaler(with_mean=False, with_std=False)</pre><b>In a Jupyter environment, please rerun this cell to show the HTML representation or trust the notebook. <br />On GitHub, the HTML representation is unable to render, please try loading this page with nbviewer.org.</b></div><div class=\"sk-container\" hidden><div class=\"sk-item\"><div class=\"sk-estimator sk-toggleable\"><input class=\"sk-toggleable__control sk-hidden--visually\" id=\"sk-estimator-id-1\" type=\"checkbox\" checked><label for=\"sk-estimator-id-1\" class=\"sk-toggleable__label sk-toggleable__label-arrow\">StandardScaler</label><div class=\"sk-toggleable__content\"><pre>StandardScaler(with_mean=False, with_std=False)</pre></div></div></div></div></div>"
      ],
      "text/plain": [
       "StandardScaler(with_mean=False, with_std=False)"
      ]
     },
     "execution_count": 10,
     "metadata": {},
     "output_type": "execute_result"
    }
   ],
   "source": [
    "scaler = StandardScaler(with_mean=False,with_std=False)\n",
    "scaler"
   ]
  },
  {
   "cell_type": "code",
   "execution_count": 11,
   "id": "8eb9b86e",
   "metadata": {},
   "outputs": [
    {
     "data": {
      "text/plain": [
       "((813, 2000), (204, 2000))"
      ]
     },
     "execution_count": 11,
     "metadata": {},
     "output_type": "execute_result"
    }
   ],
   "source": [
    "train_vectors_stand = scaler.fit_transform(train_vectors)\n",
    "test_vectors_stand =  scaler.transform(test_vectors)\n",
    "train_vectors_stand.shape,test_vectors_stand.shape"
   ]
  },
  {
   "cell_type": "code",
   "execution_count": 12,
   "id": "acb17cb7",
   "metadata": {},
   "outputs": [],
   "source": [
    "\n",
    "#plt.title(\"Standard data\")\n",
    "#plt.plot('train_vectors_stand[0].tolist')\n",
    "#plt.show()"
   ]
  },
  {
   "cell_type": "code",
   "execution_count": 13,
   "id": "6ab74880",
   "metadata": {},
   "outputs": [],
   "source": [
    "#print(train_vectors_stand)"
   ]
  },
  {
   "cell_type": "code",
   "execution_count": 14,
   "id": "75b48229",
   "metadata": {},
   "outputs": [],
   "source": [
    "def initialize_weights_bias(dim):\n",
    "    ''' In this function, we will initialize our weights and bias terms'''\n",
    "    \n",
    "\n",
    "    # Initialize the weights to zeros array of (dim) dimensions. Here dim will be the number of features of your tfidf vectorizer output.\n",
    "    # You can initialize the weight terms with zeros.\n",
    "    # Initialize bias term to zero\n",
    "    # Write your code below.\n",
    "    w = np.zeros(dim)\n",
    "    b = 0\n",
    "    return w,b"
   ]
  },
  {
   "cell_type": "code",
   "execution_count": 15,
   "id": "55d1b5ef",
   "metadata": {},
   "outputs": [
    {
     "name": "stdout",
     "output_type": "stream",
     "text": [
      "(array([0., 0., 0., ..., 0., 0., 0.]), 0)\n"
     ]
    }
   ],
   "source": [
    "weight_init = initialize_weights_bias(dim)\n",
    "print(weight_init)"
   ]
  },
  {
   "cell_type": "code",
   "execution_count": 16,
   "id": "ddec3161",
   "metadata": {},
   "outputs": [
    {
     "name": "stdout",
     "output_type": "stream",
     "text": [
      "Grader_1 Status :  True\n"
     ]
    }
   ],
   "source": [
    "# Grader function to check the initialization of your weights and bias terms.\n",
    "def grader_weights_bias(w,b):\n",
    "  assert((len(w)==2000) and b==0)\n",
    "  return True\n",
    "\n",
    "dim = 2000\n",
    "w,b = initialize_weights_bias(dim)\n",
    "grader_1 = grader_weights_bias(w,b)\n",
    "print(\"Grader_1 Status : \", grader_1)"
   ]
  },
  {
   "cell_type": "code",
   "execution_count": 17,
   "id": "85d17819",
   "metadata": {},
   "outputs": [],
   "source": [
    "def custom_sigmoid(z):\n",
    "    ''' In this function, we will return sigmoid of z'''\n",
    "    \n",
    "    # Compute sigmoid(z) and return its value.\n",
    "    # Write your code below.\n",
    "    \n",
    "    sigmoid = 1/(1 + np.exp(-z))\n",
    "    return sigmoid"
   ]
  },
  {
   "cell_type": "code",
   "execution_count": 18,
   "id": "669c3bb9",
   "metadata": {},
   "outputs": [
    {
     "name": "stdout",
     "output_type": "stream",
     "text": [
      "Grader_2 Status :  True\n"
     ]
    }
   ],
   "source": [
    "def grader_sigmoid(z):\n",
    "  val = custom_sigmoid(z)\n",
    "  assert(val==0.8807970779778823)\n",
    "  return True\n",
    "\n",
    "grader_2 = grader_sigmoid(2)\n",
    "print(\"Grader_2 Status : \", grader_2)"
   ]
  },
  {
   "cell_type": "markdown",
   "id": "f505d150",
   "metadata": {},
   "source": [
    "\n",
    "𝑙𝑜𝑔𝑙𝑜𝑠𝑠 =  −1∗1𝑛Σ𝑓𝑜𝑟𝑒𝑎𝑐ℎ𝑌𝑡𝑟𝑢𝑒,𝑌𝑝𝑟𝑒𝑑(𝑌𝑡𝑟𝑢𝑒𝑙𝑜𝑔10(𝑌𝑝𝑟𝑒𝑑)+(1−𝑌𝑡𝑟𝑢𝑒)𝑙𝑜𝑔10(1−𝑌𝑝𝑟𝑒𝑑)) \n",
    "\n",
    "\n",
    "𝐿1𝑙𝑜𝑠𝑠=Σ𝑓𝑜𝑟𝑒𝑎𝑐ℎ𝑤(|𝑤|)\n",
    "\n",
    "𝑡𝑜𝑡𝑎𝑙𝑙𝑜𝑠𝑠=𝑙𝑜𝑔𝑙𝑜𝑠𝑠+𝑎𝑙𝑝ℎ𝑎∗𝐿1𝑙𝑜𝑠𝑠\n",
    "\n",
    "Where alphas is the regularization parameter"
   ]
  },
  {
   "cell_type": "code",
   "execution_count": 19,
   "id": "9e863df3",
   "metadata": {},
   "outputs": [],
   "source": [
    "import itertools\n",
    "import math\n",
    "from math import log10"
   ]
  },
  {
   "cell_type": "code",
   "execution_count": 20,
   "id": "07cce4a5",
   "metadata": {},
   "outputs": [],
   "source": [
    "def absloute_value(values):\n",
    "    l1_loss = 0\n",
    "    for v in values:\n",
    "        l1_loss += abs(v)\n",
    "    return l1_loss"
   ]
  },
  {
   "cell_type": "code",
   "execution_count": 21,
   "id": "da1597f6",
   "metadata": {},
   "outputs": [],
   "source": [
    "def custom_loss(y_true, y_pred, alpha, weights):\n",
    "    '''In this function, we will compute total loss which is [(logloss) + (alpha * L1regularization loss)] '''\n",
    "    \n",
    "    # Write your code below.\n",
    "    \n",
    "    log_loss = 0\n",
    "    n = len(y_true)\n",
    "    \n",
    "    for y_true, y_pred in zip(y_true,y_pred):\n",
    "         log_loss += y_true*np.log10(y_pred)+(1-y_true)*log10(1-y_pred)\n",
    "    \n",
    "    log_loss = -log_loss/n\n",
    "    \n",
    "    l1_loss = absloute_value(weights)\n",
    " \n",
    "    total_loss = log_loss + (alpha*l1_loss) \n",
    "    \n",
    "    return total_loss"
   ]
  },
  {
   "cell_type": "code",
   "execution_count": 22,
   "id": "158bceb6",
   "metadata": {},
   "outputs": [
    {
     "name": "stdout",
     "output_type": "stream",
     "text": [
      "Grader_3 Status :  True\n"
     ]
    }
   ],
   "source": [
    "# Grader function to check the implementaiton of logloss\n",
    "\n",
    "def grader_loss():\n",
    "    true_values = [1,1,0,1,0]\n",
    "    pred_values = [0.9,0.8,0.1,0.8,0.2]\n",
    "    w= np.array([0.1]*10)\n",
    "    alpha= 0.0001\n",
    "    loss = custom_loss(true_values, pred_values,alpha,w)\n",
    "    assert(loss == 0.07644900402910389+0.0001*10*0.1)\n",
    "    return True\n",
    "\n",
    "\n",
    "grader_3 = grader_loss()\n",
    "print(\"Grader_3 Status : \", grader_3)"
   ]
  },
  {
   "cell_type": "markdown",
   "id": "8b046400",
   "metadata": {},
   "source": [
    "𝐿𝑖 = −(𝑌𝑖𝑙𝑜𝑔10(𝝈𝑖) − (1−𝑌𝑖)𝑙𝑜𝑔10(1−𝝈𝑖) + 𝑎𝑙𝑝ℎ𝑎/𝑁*(𝑠𝑢𝑚(|𝑤|)) \n",
    "\n",
    "𝑊ℎ𝑒𝑟𝑒:𝝈𝑖 = σ(𝑤𝑇𝑥𝑖+𝑏) \n",
    "\n",
    "And: L1 regularization =  𝑎𝑙𝑝ℎ𝑎/𝑁*(𝑠𝑢𝑚(|𝑤|))\n",
    "\n",
    "Alpha: It is the Regularization parameter\n",
    "\n",
    "N : number of training examples\n",
    "\n",
    "σ : sigmoid function <b\n",
    "\n",
    "𝑑𝐿𝑖/𝑑𝑤 = −𝑌𝑖 𝑥𝑖(1−𝝈𝑖) + (1−𝑌𝑖)𝑥𝑖𝝈𝑖 + (𝑎𝑙𝑝ℎ𝑎/𝑁)*( (𝑤 + (1𝑒−5)) / |𝑤+(1𝑒−5)| )\n",
    "\n",
    "                        \n",
    "NOTE THAT: 1e-5 used in numerator and denominator to avoid division error\n",
    "\n",
    "𝑑𝐿𝑖/𝑑𝑏 = −𝑌𝑖(1−𝝈𝑖) + (1−𝑌𝑖)𝝈𝑖 \n",
    "\n",
    "\n",
    "Hence,\n",
    "                        \n",
    "𝑑𝐿𝑖/𝑑𝑤 = 𝑑𝑤 = (𝝈𝑖−𝑌𝑖)𝑥𝑖 + 𝑎𝑙𝑝ℎ𝑎/𝑁 * ( (𝑤 + (1𝑒−5))|𝑤 + (1𝑒−5)|) ) \n",
    "\n",
    "1e-5 used in numerator and denominator to avoid division error\n",
    "\n",
    "𝑑𝐿𝑖/𝑑𝑏 = 𝑑𝑏 = 𝝈𝑖−𝑌𝑖 "
   ]
  },
  {
   "cell_type": "markdown",
   "id": "03b714db",
   "metadata": {},
   "source": [
    "z =2\n",
    "w,b = initialize_weights_bias(dim)\n",
    "\n",
    "alpha = 0.0001\n",
    "N = 2000                                                       \n",
    "x = np.array(train_vectors)\n",
    "y = np.array(df[\"category\"])                                               \n",
    "gradient_dw(x, y, w, b, alpha, N)\n",
    "\n",
    "z = np.dot(w, x) + b\n",
    "\n",
    "dw = x*(y - sigmoid(z)) - ((1/alpha)*(1/N) * w)\n",
    "\n",
    "\n",
    "dLi/dw = dw= (σi−Yi)xi + alphaNw + (1e−5)|w+(1e−5)| \n",
    "\n",
    "1e-5 used in numerator and denominator to avoid division error\n",
    "\n",
    "dLi/db=db=σi−Yi"
   ]
  },
  {
   "cell_type": "code",
   "execution_count": 23,
   "id": "9ec75861",
   "metadata": {},
   "outputs": [],
   "source": [
    "def gradient_dw(x, y, w, b, alpha, N):\n",
    "    '''In this function, we will compute the gardient w.r.t. w '''\n",
    "    # Write your code below.\n",
    "    dw = ((custom_sigmoid(np.dot(x, w) + b) - y) *  x) + ((alpha/N) * (w + 1e-5 / abs(w + 1e-5)))\n",
    "    return dw"
   ]
  },
  {
   "cell_type": "code",
   "execution_count": 24,
   "id": "4a9ab767",
   "metadata": {},
   "outputs": [],
   "source": [
    "def gradient_db(x, y, w, b):\n",
    "    '''In this function, we will compute the gardient w.r.t. b '''\n",
    "    # Write your code below.\n",
    "    db = custom_sigmoid(np.dot(w,x) + b) - y\n",
    "    return db"
   ]
  },
  {
   "cell_type": "markdown",
   "id": "1e2aede4",
   "metadata": {},
   "source": [
    "  Implement the code as follows:\n",
    "    \"\"\"\n",
    "  In this function we will compute optimal values for weights and bias terms on\n",
    "  the train data. \n",
    "\n",
    "  Here eta0 is the learning rate and alpha is the regularization term.\n",
    "  \"\"\"\n",
    "\n",
    "  1. Initalize the weights (call the initialize_weights(X_train[0]) function)\n",
    "  2. Repeat For many epochs until condition \"e\"  fails\n",
    "          # a) for every data point(X_train,y_train)\n",
    "                # compute gradient w.r.to w (call the gradient_dw() function)\n",
    "                # compute gradient w.r.to b (call the gradient_db() function)\n",
    "                # update w, b using the above eqns\n",
    "          # b) predict the output of x_train[for all data points in X_train] using w,b\n",
    "          # c) compute the loss between predicted and actual values (call the loss function)\n",
    "          # d) store all the train loss values in a list\n",
    "          # e) Compare previous loss and current loss, if the difference between loss is not more than or equal to the tolerance, stop the process and return w,b\n",
    "\n",
    "   3. Return the values of weights, bias, train_loss and num_epochs "
   ]
  },
  {
   "cell_type": "code",
   "execution_count": 25,
   "id": "2d964089",
   "metadata": {},
   "outputs": [],
   "source": [
    "def custom_train(X_train, y_train, alpha, eta0,tolerance):\n",
    "    N = X_train.shape[1]\n",
    "    w, b = initialize_weights_bias(N)\n",
    "    # *((w + (np.exp(-5))) / (w + abs(np.exp(-5))))   #w+(1e−5)|\n",
    "    epoch = 200\n",
    "    train_losses = []\n",
    "    \n",
    "    for epoch in range(epoch):\n",
    "        for x, y in zip(X_train, y_train):\n",
    "            dw = gradient_dw(x, y, w, b, alpha, N)\n",
    "            db = gradient_db(x, y, w, b)\n",
    "            w = w - eta0 * dw\n",
    "            b = b - eta0 * db\n",
    "        y_pred = [custom_sigmoid(np.dot(w, x)) for x in X_train]\n",
    "        train_loss = custom_loss(y_train, y_pred, alpha, w)\n",
    "        train_losses.append(train_loss)\n",
    "        \n",
    "        if len(train_losses)>=2 and train_losses[-2] - train_losses[-1]  <  tolerance:\n",
    "              break\n",
    "\n",
    "        print(f\"Epoch: {epoch} Train Loss: {train_loss}\")\n",
    "\n",
    "    return w, b, train_losses, epoch"
   ]
  },
  {
   "cell_type": "code",
   "execution_count": 26,
   "id": "af5ecf5d",
   "metadata": {
    "scrolled": true
   },
   "outputs": [],
   "source": [
    "def grader_weights_bias():\n",
    "    clf = linear_model.SGDClassifier(eta0=0.0001, alpha=0.0001, \n",
    "                                     loss='log_loss', random_state=15, \n",
    "                                     penalty='l1', tol=1e-3, \n",
    "                                     learning_rate='constant'\n",
    "                                    )\n",
    "    clf.fit(train_vectors_stand,train_category.values)\n",
    "    model_coef = clf.coef_[0]\n",
    "\n",
    "    # fitting custom train with same learning rate, regularization and tolerance as of sklearn\n",
    "    w, b, _, epoch = custom_train(train_vectors_stand.toarray(), train_category.values, 0.0001,0.0001,1e-3)\n",
    "\n",
    "    # checking whether the weights and bias returned by both the implementations are closer\n",
    "    print(f\"Weights: {w}\")\n",
    "    print(f\"SGD Weights: {model_coef}\")\n",
    "    print(f\"Bias {b} SGB Bias {clf.intercept_}\")\n",
    "    \n",
    "    for wdiff in (w - model_coef):\n",
    "        #print(f\"Weights Difference: {wdiff}\")\n",
    "        if wdiff > 0.02:\n",
    "            print(f\"----------{wdiff}\")\n",
    "    \n",
    "    assert(not (b - clf.intercept_>0.02)==True)\n",
    "    assert((not (w - model_coef>0.02).any())==True)\n",
    "\n",
    "    return True"
   ]
  },
  {
   "cell_type": "code",
   "execution_count": 27,
   "id": "4e31441d",
   "metadata": {},
   "outputs": [
    {
     "name": "stdout",
     "output_type": "stream",
     "text": [
      "Epoch: 0 Train Loss: 0.30091950891663255\n",
      "Weights: [-2.60285681e-04 -1.88837739e-04 -1.80145788e-05 ...  2.31933405e-04\n",
      "  1.57175797e-04  1.14236868e-04]\n",
      "SGD Weights: [-7.31962530e-04 -5.19249656e-04 -5.42397981e-06 ...  6.46917855e-04\n",
      "  4.22730730e-04  2.94555212e-04]\n",
      "Bias 9.411542029356958e-05 SGB Bias [3.13505211e-06]\n",
      "Grader_4 Status :  True\n"
     ]
    }
   ],
   "source": [
    "grader_4 = grader_weights_bias()\n",
    "print(\"Grader_4 Status : \", grader_4)"
   ]
  },
  {
   "cell_type": "code",
   "execution_count": 28,
   "id": "5c8d8a6f",
   "metadata": {},
   "outputs": [
    {
     "name": "stdout",
     "output_type": "stream",
     "text": [
      "Epoch: 0 Train Loss: 0.30091950891663255\n"
     ]
    },
    {
     "data": {
      "image/png": "[encoded data removed]",
      "text/plain": [
       "<Figure size 432x288 with 1 Axes>"
      ]
     },
     "metadata": {
      "needs_background": "light"
     },
     "output_type": "display_data"
    }
   ],
   "source": [
    "# plotting graph for epoch vs loss for train and test data\n",
    "\n",
    "w,b,train_loss,epochs = custom_train(train_vectors_stand.toarray(), train_category.values, 0.0001,0.0001,0.001)\n",
    "plt.plot(range(epochs+1), train_loss, label='train curve')\n",
    "plt.title('epoch vs loss')\n",
    "plt.legend()\n",
    "plt.xlabel('epoch')\n",
    "plt.ylabel('loss')\n",
    "plt.show()"
   ]
  },
  {
   "cell_type": "code",
   "execution_count": 29,
   "id": "f8eae174",
   "metadata": {},
   "outputs": [],
   "source": [
    "def predict(w,b, X):\n",
    "    \n",
    "    '''function to predict label given weights, bias and standardized data'''\n",
    "    \n",
    "    #m = X.shape[1]\n",
    "    #Y_prediction = np.zeros((1, m))\n",
    "    #w = w.reshape(X.shape[0], 1)\n",
    "    \n",
    "    predictions = []\n",
    "    for x in X:\n",
    "        z = np.dot(w, x) + b\n",
    "        prediction = custom_sigmoid(z)\n",
    "        predictions.append(prediction)\n",
    "    \n",
    "    return np.array(predictions) #it should be a numpy array"
   ]
  },
  {
   "cell_type": "code",
   "execution_count": 30,
   "id": "f6c87758",
   "metadata": {},
   "outputs": [
    {
     "name": "stdout",
     "output_type": "stream",
     "text": [
      "Epoch: 0 Train Loss: 0.30091950891663255\n",
      "Success!\n"
     ]
    }
   ],
   "source": [
    "def grader_predict():\n",
    "    ''' grader to check the test accuracy'''\n",
    "    \n",
    "    w, b, _, _ = custom_train(train_vectors_stand.toarray(), train_category.values, 0.0001,0.0001,0.001)\n",
    "    \n",
    "    test_preds = predict(w, b, test_vectors_stand.toarray())\n",
    "    \n",
    "    test_preds = [ 1 if test >= 0.5 else 0 for test in test_preds]\n",
    "    \n",
    "    test_accuracy = (np.sum(test_category == test_preds)/len(test_preds))*100\n",
    "    \n",
    "    if (test_accuracy >= 90):\n",
    "        print(\"Success!\")\n",
    "    else:\n",
    "        print(\"Failed! \\n Test accuracy = \", test_accuracy)\n",
    "    return\n",
    "  \n",
    "grader_predict()"
   ]
  },
  {
   "cell_type": "code",
   "execution_count": 31,
   "id": "dbb42575",
   "metadata": {},
   "outputs": [],
   "source": [
    "def custom_train_v2(X_train, y_train,alpha, eta0, tolerance):\n",
    "    \"\"\"\n",
    "    In this function we will compute optimal values for weights and bias terms on\n",
    "    the train data. \n",
    "\n",
    "    Here eta0 is the learning rate and alpha is the regularization term.\n",
    "    \"\"\"\n",
    "    #array to store train loss for each epoch\n",
    "    train_loss=[]\n",
    "\n",
    "  # Implement the code as follows:\n",
    "\n",
    "  # 1. Initalize the weights (call the initialize_weights(X_train[0]) function)\n",
    "    \n",
    "    \n",
    "  # 2. Repeat For many epochs until condition \"e\"  fails\n",
    "          # a) for every data point(X_train,y_train)\n",
    "                # compute gradient w.r.to w (call the gradient_dw() function)\n",
    "                # compute gradient w.r.to b (call the gradient_db() function)\n",
    "                # update w, b using the above eqns\n",
    "          # b) predict the output of x_train[for all data points in X_train] using w,b\n",
    "          # c) compute the loss between predicted and actual values (call the loss function)\n",
    "          # d) store all the train loss values in a list\n",
    "          # e) Compare previous loss and current loss, if the difference between loss is not more than or equal to the tolerance, stop the process and return w,b\n",
    "\n",
    "  # 3. Return the values of weights, bias, train_loss and num_epochs \n",
    "  \n",
    "  #initializing the weights and bias\n",
    "    w,b=initialize_weights_bias(X_train.shape[1])\n",
    "\n",
    "  #storing the number of train points in N\n",
    "    N=len(X_train)\n",
    "\n",
    "  #number of epochs the model is trained\n",
    "    num_epochs=0\n",
    "\n",
    "  #condition to run the training for more epochs\n",
    "    cond=True\n",
    "\n",
    "  #checking whether to run the training for more epochs\n",
    "    while(cond):\n",
    "    \n",
    "    #looping through each datapoint\n",
    "    \n",
    "        for j in range(len(X_train)):\n",
    "            x=X_train[j]\n",
    "            y=y_train[j]\n",
    "\n",
    "            #computing gradients\n",
    "            dw=gradient_dw(x,y,w,b,alpha,N)\n",
    "            db=gradient_db(x,y,w,b)\n",
    "\n",
    "            #updating weights\n",
    "            w=w-eta0*dw\n",
    "            b=b-eta0*db\n",
    "\n",
    "    #computing y_pred for entire train data as y_pred= sigmoid(wTx+b)\n",
    "        y_pred_train = np.array([custom_sigmoid(np.dot(w,X_traini)+b) for X_traini in X_train])\n",
    "\n",
    "    #adding the train loss of current epoch to the list\n",
    "        train_loss.append(custom_loss(y_train,y_pred_train,alpha,w))\n",
    "\n",
    "    #checking whether loss has improved from previous epoch by atleast tolerance\n",
    "    \n",
    "        if num_epochs>0:\n",
    "            cond = ((train_loss[num_epochs - 1] - train_loss[num_epochs]) >= tolerance)\n",
    "\n",
    "    #increasing the number of epochs the model is trained.\n",
    "        num_epochs=num_epochs + 1\n",
    "\n",
    "    #decreasing learning rate by 10% each epoch\n",
    "        eta0 = eta0*0.90  \n",
    "\n",
    "    return w,b,train_loss,num_epochs"
   ]
  },
  {
   "cell_type": "code",
   "execution_count": 32,
   "id": "2a407d3b",
   "metadata": {},
   "outputs": [],
   "source": [
    "a, b, c, n = custom_train_v2(train_vectors_stand.toarray(), train_category.values, 0.0001,0.0001,1e-3)"
   ]
  },
  {
   "cell_type": "code",
   "execution_count": 33,
   "id": "2dae8172",
   "metadata": {},
   "outputs": [
    {
     "name": "stdout",
     "output_type": "stream",
     "text": [
      "[-2.47276510e-04 -1.79402928e-04 -1.71369523e-05 ...  2.20339193e-04\n",
      "  1.49317656e-04  1.08524353e-04]\n"
     ]
    }
   ],
   "source": [
    "print(a)\n"
   ]
  },
  {
   "cell_type": "code",
   "execution_count": 34,
   "id": "ac2657f5",
   "metadata": {},
   "outputs": [
    {
     "name": "stdout",
     "output_type": "stream",
     "text": [
      "8.96738752418314e-05\n"
     ]
    }
   ],
   "source": [
    "print(b)\n"
   ]
  },
  {
   "cell_type": "code",
   "execution_count": null,
   "id": "86ab98d0",
   "metadata": {},
   "outputs": [],
   "source": []
  }
 ],
 "metadata": {
  "kernelspec": {
   "display_name": "Python 3",
   "language": "python",
   "name": "python3"
  },
  "language_info": {
   "codemirror_mode": {
    "name": "ipython",
    "version": 3
   },
   "file_extension": ".py",
   "mimetype": "text/x-python",
   "name": "python",
   "nbconvert_exporter": "python",
   "pygments_lexer": "ipython3",
   "version": "3.8.8"
  }
 },
 "nbformat": 4,
 "nbformat_minor": 5
}
